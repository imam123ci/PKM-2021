{
 "cells": [
  {
   "cell_type": "markdown",
   "id": "bea0aa2e-595d-4d2d-8728-5d73436d805f",
   "metadata": {
    "id": "bea0aa2e-595d-4d2d-8728-5d73436d805f"
   },
   "source": [
    "# Text Mining From IMDB Datasets #\n",
    "Author : Choirul Imam\n",
    "\n",
    "Created: 20/05/2021\n",
    "\n",
    "Description :\n",
    "I want to classify movies reviews from IMDB Datasets. Theese review have two class which is positive and negative. \n",
    "I get all datasets from kaggle(https://www.kaggle.com/lakshmi25npathi/imdb-dataset-of-50k-movie-reviews).\n",
    "\n",
    "## What to do ##\n",
    "First, lets try to vectorize all words. Then, i will try simple NNs with 1-2 layers. \n",
    "Next, try using lstm(single and bi directional).\n",
    "\n",
    "Since the review is in english and there is a lot of NLP model for this language,\n",
    "there is possibility to create deep learning using transfer learning.\n"
   ]
  },
  {
   "cell_type": "code",
   "execution_count": 1,
   "id": "887ee6ff-cc7b-440c-b96a-829a647a42c8",
   "metadata": {
    "id": "887ee6ff-cc7b-440c-b96a-829a647a42c8",
    "outputId": "4113848f-f459-4305-cfc3-7d591f7466e0",
    "tags": []
   },
   "outputs": [
    {
     "name": "stdout",
     "output_type": "stream",
     "text": [
      "Requirement already satisfied: tensorflow in c:\\python39\\lib\\site-packages (2.5.0rc3)\n",
      "Requirement already satisfied: numpy~=1.19.2 in c:\\python39\\lib\\site-packages (from tensorflow) (1.19.3)\n",
      "Requirement already satisfied: keras-nightly~=2.5.0.dev in c:\\python39\\lib\\site-packages (from tensorflow) (2.5.0.dev2021032900)\n",
      "Requirement already satisfied: opt-einsum~=3.3.0 in c:\\python39\\lib\\site-packages (from tensorflow) (3.3.0)\n",
      "Requirement already satisfied: keras-preprocessing~=1.1.2 in c:\\python39\\lib\\site-packages (from tensorflow) (1.1.2)\n",
      "Requirement already satisfied: h5py~=3.1.0 in c:\\python39\\lib\\site-packages (from tensorflow) (3.1.0)\n",
      "Requirement already satisfied: tensorflow-estimator<2.6.0,>=2.5.0rc0 in c:\\python39\\lib\\site-packages (from tensorflow) (2.5.0rc0)\n",
      "Requirement already satisfied: grpcio~=1.34.0 in c:\\python39\\lib\\site-packages (from tensorflow) (1.34.1)\n",
      "Requirement already satisfied: astunparse~=1.6.3 in c:\\python39\\lib\\site-packages (from tensorflow) (1.6.3)\n",
      "Requirement already satisfied: absl-py~=0.10 in c:\\python39\\lib\\site-packages (from tensorflow) (0.12.0)\n",
      "Requirement already satisfied: gast==0.4.0 in c:\\python39\\lib\\site-packages (from tensorflow) (0.4.0)\n",
      "Requirement already satisfied: typing-extensions~=3.7.4 in c:\\python39\\lib\\site-packages (from tensorflow) (3.7.4.3)\n",
      "Requirement already satisfied: tensorboard~=2.5 in c:\\python39\\lib\\site-packages (from tensorflow) (2.5.0)\n",
      "Requirement already satisfied: wrapt~=1.12.1 in c:\\users\\mcimam\\appdata\\roaming\\python\\python39\\site-packages (from tensorflow) (1.12.1)\n",
      "Requirement already satisfied: termcolor~=1.1.0 in c:\\python39\\lib\\site-packages (from tensorflow) (1.1.0)\n",
      "Requirement already satisfied: protobuf>=3.9.2 in c:\\python39\\lib\\site-packages (from tensorflow) (3.16.0)\n",
      "Requirement already satisfied: six~=1.15.0 in c:\\users\\mcimam\\appdata\\roaming\\python\\python39\\site-packages (from tensorflow) (1.15.0)\n",
      "Requirement already satisfied: google-pasta~=0.2 in c:\\python39\\lib\\site-packages (from tensorflow) (0.2.0)\n",
      "Requirement already satisfied: flatbuffers~=1.12.0 in c:\\python39\\lib\\site-packages (from tensorflow) (1.12)\n",
      "Requirement already satisfied: wheel~=0.35 in c:\\python39\\lib\\site-packages (from tensorflow) (0.36.2)\n",
      "Requirement already satisfied: tensorboard-plugin-wit>=1.6.0 in c:\\python39\\lib\\site-packages (from tensorboard~=2.5->tensorflow) (1.8.0)\n",
      "Requirement already satisfied: requests<3,>=2.21.0 in c:\\python39\\lib\\site-packages (from tensorboard~=2.5->tensorflow) (2.25.1)\n",
      "Requirement already satisfied: werkzeug>=0.11.15 in c:\\python39\\lib\\site-packages (from tensorboard~=2.5->tensorflow) (1.0.1)\n",
      "Requirement already satisfied: markdown>=2.6.8 in c:\\python39\\lib\\site-packages (from tensorboard~=2.5->tensorflow) (3.3.4)\n",
      "Requirement already satisfied: setuptools>=41.0.0 in c:\\python39\\lib\\site-packages (from tensorboard~=2.5->tensorflow) (49.2.1)\n",
      "Requirement already satisfied: google-auth<2,>=1.6.3 in c:\\python39\\lib\\site-packages (from tensorboard~=2.5->tensorflow) (1.30.0)\n",
      "Requirement already satisfied: google-auth-oauthlib<0.5,>=0.4.1 in c:\\python39\\lib\\site-packages (from tensorboard~=2.5->tensorflow) (0.4.4)\n"
     ]
    },
    {
     "name": "stderr",
     "output_type": "stream",
     "text": [
      "WARNING: You are using pip version 21.0.1; however, version 21.1.2 is available.\n",
      "You should consider upgrading via the 'c:\\python39\\python.exe -m pip install --upgrade pip' command.\n"
     ]
    },
    {
     "name": "stdout",
     "output_type": "stream",
     "text": [
      "Requirement already satisfied: tensorboard-data-server<0.7.0,>=0.6.0 in c:\\python39\\lib\\site-packages (from tensorboard~=2.5->tensorflow) (0.6.1)\n",
      "Requirement already satisfied: pyasn1-modules>=0.2.1 in c:\\python39\\lib\\site-packages (from google-auth<2,>=1.6.3->tensorboard~=2.5->tensorflow) (0.2.8)\n",
      "Requirement already satisfied: cachetools<5.0,>=2.0.0 in c:\\python39\\lib\\site-packages (from google-auth<2,>=1.6.3->tensorboard~=2.5->tensorflow) (4.2.2)\n",
      "Requirement already satisfied: rsa<5,>=3.1.4 in c:\\python39\\lib\\site-packages (from google-auth<2,>=1.6.3->tensorboard~=2.5->tensorflow) (4.7.2)\n",
      "Requirement already satisfied: requests-oauthlib>=0.7.0 in c:\\python39\\lib\\site-packages (from google-auth-oauthlib<0.5,>=0.4.1->tensorboard~=2.5->tensorflow) (1.3.0)\n",
      "Requirement already satisfied: pyasn1<0.5.0,>=0.4.6 in c:\\python39\\lib\\site-packages (from pyasn1-modules>=0.2.1->google-auth<2,>=1.6.3->tensorboard~=2.5->tensorflow) (0.4.8)\n",
      "Requirement already satisfied: urllib3<1.27,>=1.21.1 in c:\\python39\\lib\\site-packages (from requests<3,>=2.21.0->tensorboard~=2.5->tensorflow) (1.26.4)\n",
      "Requirement already satisfied: chardet<5,>=3.0.2 in c:\\python39\\lib\\site-packages (from requests<3,>=2.21.0->tensorboard~=2.5->tensorflow) (4.0.0)\n",
      "Requirement already satisfied: certifi>=2017.4.17 in c:\\python39\\lib\\site-packages (from requests<3,>=2.21.0->tensorboard~=2.5->tensorflow) (2020.12.5)\n",
      "Requirement already satisfied: idna<3,>=2.5 in c:\\python39\\lib\\site-packages (from requests<3,>=2.21.0->tensorboard~=2.5->tensorflow) (2.10)\n",
      "Requirement already satisfied: oauthlib>=3.0.0 in c:\\python39\\lib\\site-packages (from requests-oauthlib>=0.7.0->google-auth-oauthlib<0.5,>=0.4.1->tensorboard~=2.5->tensorflow) (3.1.0)\n"
     ]
    },
    {
     "name": "stderr",
     "output_type": "stream",
     "text": [
      "ERROR: You must give at least one requirement to install (see \"pip help install\")\n",
      "WARNING: You are using pip version 21.0.1; however, version 21.1.2 is available.\n",
      "You should consider upgrading via the 'c:\\python39\\python.exe -m pip install --upgrade pip' command.\n"
     ]
    }
   ],
   "source": [
    "# Install all required Library\n",
    "!pip install tensorflow\n",
    "!pip install "
   ]
  },
  {
   "cell_type": "code",
   "execution_count": 2,
   "id": "a0ef193d-a512-4780-84ef-992eeb141416",
   "metadata": {
    "id": "a0ef193d-a512-4780-84ef-992eeb141416"
   },
   "outputs": [
    {
     "name": "stderr",
     "output_type": "stream",
     "text": [
      "'wget' is not recognized as an internal or external command,\n",
      "operable program or batch file.\n",
      "'unzip' is not recognized as an internal or external command,\n",
      "operable program or batch file.\n"
     ]
    }
   ],
   "source": [
    "# Try to get this database\n",
    "# Please install wget or download file manually\n",
    "# Skip if already download\n",
    "!wget https://www.kaggle.com/lakshmi25npathi/imdb-dataset-of-50k-movie-reviews/download\n",
    "!unzip archive.zip"
   ]
  },
  {
   "cell_type": "code",
   "execution_count": 3,
   "id": "3e0f4849-28a2-4f12-8743-4c3914c0b717",
   "metadata": {
    "id": "3e0f4849-28a2-4f12-8743-4c3914c0b717"
   },
   "outputs": [],
   "source": [
    "#import library\n",
    "import numpy as np\n",
    "import pandas as pd\n",
    "import tensorflow as tf\n",
    "\n",
    "from tensorflow.keras.preprocessing.text import Tokenizer\n",
    "from tensorflow.keras.preprocessing.sequence import pad_sequences\n",
    "from tensorflow.keras.utils import to_categorical\n",
    "from tensorflow.keras import regularizers"
   ]
  },
  {
   "cell_type": "code",
   "execution_count": 4,
   "id": "d0972c9a-6e3f-4857-8d96-559a5748d7ae",
   "metadata": {
    "colab": {
     "base_uri": "https://localhost:8080/"
    },
    "id": "d0972c9a-6e3f-4857-8d96-559a5748d7ae",
    "outputId": "967e101b-bde4-42be-aa5d-f92d0c0742e2"
   },
   "outputs": [
    {
     "name": "stdout",
     "output_type": "stream",
     "text": [
      "dataset info\n",
      "<class 'pandas.core.frame.DataFrame'>\n",
      "RangeIndex: 50000 entries, 0 to 49999\n",
      "Data columns (total 2 columns):\n",
      " #   Column     Non-Null Count  Dtype \n",
      "---  ------     --------------  ----- \n",
      " 0   review     50000 non-null  object\n",
      " 1   sentiment  50000 non-null  object\n",
      "dtypes: object(2)\n",
      "memory usage: 781.4+ KB\n",
      "dataset example\n",
      "                                              review sentiment\n",
      "1  A wonderful little production. <br /><br />The...  positive\n",
      "2  I thought this was a wonderful way to spend ti...  positive\n",
      "3  Basically there's a family where a little boy ...  negative\n",
      "4  Petter Mattei's \"Love in the Time of Money\" is...  positive\n",
      "5  Probably my all-time favorite movie, a story o...  positive\n",
      "6  I sure would like to see a resurrection of a u...  positive\n",
      "7  This show was an amazing, fresh & innovative i...  negative\n",
      "8  Encouraged by the positive comments about this...  negative\n",
      "9  If you like original gut wrenching laughter yo...  positive\n",
      "\n",
      "longest string character : \n"
     ]
    },
    {
     "data": {
      "text/plain": [
       "13704"
      ]
     },
     "execution_count": 4,
     "metadata": {},
     "output_type": "execute_result"
    }
   ],
   "source": [
    "# insert csv file using pandas\n",
    "imdb_data = pd.read_csv('IMDB Dataset.csv')\n",
    "print('dataset info')\n",
    "imdb_data.info()\n",
    "print('dataset example')\n",
    "print(imdb_data[1:10])\n",
    "print('\\nlongest string character : ')\n",
    "imdb_data.review.map(len).max()"
   ]
  },
  {
   "cell_type": "code",
   "execution_count": 5,
   "id": "411b99e4-f19f-4a9f-9584-e69cba121901",
   "metadata": {
    "id": "411b99e4-f19f-4a9f-9584-e69cba121901"
   },
   "outputs": [],
   "source": [
    "# use copy of imdb_data insted imdb_data itself\n",
    "# this ensure there is no change or modification to original imdb_data\n",
    "base_data = imdb_data.copy()\n",
    "base_len = base_data.review.str.split(' ').map(len)\n"
   ]
  },
  {
   "cell_type": "code",
   "execution_count": 6,
   "id": "Ey73ELuEd8PW",
   "metadata": {
    "colab": {
     "base_uri": "https://localhost:8080/",
     "height": 314
    },
    "id": "Ey73ELuEd8PW",
    "outputId": "bcf1cdb4-8ed2-4726-a1b4-5292d1aa0dc1"
   },
   "outputs": [
    {
     "name": "stdout",
     "output_type": "stream",
     "text": [
      "231.14594\n"
     ]
    },
    {
     "data": {
      "text/plain": [
       "<AxesSubplot:title={'center':'word len per string'}>"
      ]
     },
     "execution_count": 6,
     "metadata": {},
     "output_type": "execute_result"
    },
    {
     "data": {
      "image/png": "[encoded data removed]",
      "text/plain": [
       "<Figure size 432x288 with 1 Axes>"
      ]
     },
     "metadata": {
      "needs_background": "light"
     },
     "output_type": "display_data"
    }
   ],
   "source": [
    "# Explore Data\n",
    "print(base_len.mean())\n",
    "base_len.plot(title='word len per string',x='string ', y='word len')"
   ]
  },
  {
   "cell_type": "markdown",
   "id": "Q7VRC5-P12Zs",
   "metadata": {
    "id": "Q7VRC5-P12Zs"
   },
   "source": [
    "## Preprocessing data\n",
    "- Try to vectorize / tokenize sentence\n",
    "- padding data\n",
    "- split to train and test (no validation test)"
   ]
  },
  {
   "cell_type": "code",
   "execution_count": 7,
   "id": "e86e888d-74ad-48be-9cae-7c54e7ce8bbf",
   "metadata": {
    "id": "e86e888d-74ad-48be-9cae-7c54e7ce8bbf"
   },
   "outputs": [],
   "source": [
    "\n",
    "# Setup Hyper Parameter\n",
    "embedding_dim = 100\n",
    "max_length = 230\n",
    "trunc_type='post'\n",
    "padding_type='post'\n",
    "oov_tok = \"<OOV>\"\n",
    "training_size= 50000\n",
    "test_portion=.2\n"
   ]
  },
  {
   "cell_type": "code",
   "execution_count": 32,
   "id": "v-vZAZBWeLcP",
   "metadata": {
    "id": "v-vZAZBWeLcP"
   },
   "outputs": [],
   "source": [
    "# Vectorize all sentences\n",
    "tokenizer = Tokenizer()\n",
    "tokenizer.fit_on_texts(base_data.iloc[:,0])\n",
    "\n",
    "# basicly just get info on tokenizer\n",
    "word_index = tokenizer.word_index\n",
    "vocab_size=len(word_index)\n",
    "\n",
    "sequences = tokenizer.texts_to_sequences(base_data.iloc[:, 0]) # change word 2 vector\n",
    "padded = pad_sequences(sequences, maxlen=max_length, padding=padding_type, truncating=trunc_type) # pad pad data\n",
    "\n",
    "# split data to training and testing\n",
    "split = int(test_portion * training_size)\n",
    "\n",
    "test_sequences = padded[0:split]\n",
    "training_sequences = padded[split:training_size]\n"
   ]
  },
  {
   "cell_type": "code",
   "execution_count": 33,
   "id": "IAja0jg8fGXK",
   "metadata": {
    "colab": {
     "base_uri": "https://localhost:8080/"
    },
    "id": "IAja0jg8fGXK",
    "outputId": "d4d0be69-9c9f-43bd-a2cc-63edcae0885e"
   },
   "outputs": [],
   "source": [
    "# Explore Test sequences after vector\n",
    "label_tokenizer = Tokenizer()\n",
    "label_tokenizer.fit_on_texts(base_data.iloc[:,1])\n",
    "labels = label_tokenizer.texts_to_sequences(base_data.iloc[:, 1]) #change all labels 2 vector\n",
    "\n",
    "test_labels_pad = np.array(labels[0:split])\n",
    "training_labels_pad = np.array(labels[split:training_size])\n"
   ]
  },
  {
   "cell_type": "code",
   "execution_count": 34,
   "id": "447d2ac1-6236-45ca-8606-19141d6bc740",
   "metadata": {},
   "outputs": [
    {
     "data": {
      "text/plain": [
       "array([[1],\n",
       "       [1],\n",
       "       [1],\n",
       "       ...,\n",
       "       [2],\n",
       "       [2],\n",
       "       [1]])"
      ]
     },
     "execution_count": 34,
     "metadata": {},
     "output_type": "execute_result"
    }
   ],
   "source": [
    "test_labels_pad"
   ]
  },
  {
   "cell_type": "markdown",
   "id": "Qi3zmYs_dzz9",
   "metadata": {
    "id": "Qi3zmYs_dzz9"
   },
   "source": [
    "## Let's create NNs Model\n",
    "Tokenizer -> LSTM -> Dense -> Output\n",
    "\n",
    "Let's try this model with aprox. 2-3 layer.\n",
    "Run around 3-5 epoch.\n",
    "String length sets to around 20.\n",
    "Hopefully this does't required a lot of time.\n"
   ]
  },
  {
   "cell_type": "code",
   "execution_count": 10,
   "id": "KhrfL43b2SVQ",
   "metadata": {
    "id": "KhrfL43b2SVQ"
   },
   "outputs": [
    {
     "name": "stdout",
     "output_type": "stream",
     "text": [
      "Model: \"sequential\"\n",
      "_________________________________________________________________\n",
      "Layer (type)                 Output Shape              Param #   \n",
      "=================================================================\n",
      "embedding (Embedding)        (None, 230, 100)          12425200  \n",
      "_________________________________________________________________\n",
      "global_average_pooling1d (Gl (None, 100)               0         \n",
      "_________________________________________________________________\n",
      "dense (Dense)                (None, 24)                2424      \n",
      "_________________________________________________________________\n",
      "dense_1 (Dense)              (None, 6)                 150       \n",
      "=================================================================\n",
      "Total params: 12,427,774\n",
      "Trainable params: 12,427,774\n",
      "Non-trainable params: 0\n",
      "_________________________________________________________________\n"
     ]
    }
   ],
   "source": [
    "model = tf.keras.Sequential([\n",
    "    tf.keras.layers.Embedding(vocab_size, embedding_dim, input_length=max_length),\n",
    "    tf.keras.layers.GlobalAveragePooling1D(),\n",
    "    tf.keras.layers.Dense(24, activation='relu'),\n",
    "    tf.keras.layers.Dense(6, activation='softmax')\n",
    "])\n",
    "model.compile(loss='sparse_categorical_crossentropy',optimizer='adam',metrics=['accuracy'])\n",
    "model.summary()"
   ]
  },
  {
   "cell_type": "code",
   "execution_count": 36,
   "id": "d40ea8cb-a3f4-4fea-93d1-a839b2ccd6e8",
   "metadata": {},
   "outputs": [
    {
     "name": "stdout",
     "output_type": "stream",
     "text": [
      "Epoch 1/30\n",
      "1000/1000 [==============================] - 112s 112ms/step - loss: 0.2605 - accuracy: 0.8979 - val_loss: 0.2488 - val_accuracy: 0.8960\n",
      "Epoch 2/30\n",
      "1000/1000 [==============================] - 109s 109ms/step - loss: 0.1806 - accuracy: 0.9333 - val_loss: 0.2317 - val_accuracy: 0.9050\n",
      "Epoch 3/30\n",
      "1000/1000 [==============================] - 108s 108ms/step - loss: 0.1274 - accuracy: 0.9574 - val_loss: 0.2453 - val_accuracy: 0.9055\n",
      "Epoch 4/30\n",
      "1000/1000 [==============================] - 107s 107ms/step - loss: 0.0881 - accuracy: 0.9729 - val_loss: 0.2850 - val_accuracy: 0.8978\n",
      "Epoch 5/30\n",
      "1000/1000 [==============================] - 107s 107ms/step - loss: 0.0604 - accuracy: 0.9839 - val_loss: 0.3096 - val_accuracy: 0.8945\n",
      "Epoch 6/30\n",
      "1000/1000 [==============================] - 107s 107ms/step - loss: 0.0401 - accuracy: 0.9899 - val_loss: 0.3370 - val_accuracy: 0.8961\n",
      "Epoch 7/30\n",
      "1000/1000 [==============================] - 107s 107ms/step - loss: 0.0273 - accuracy: 0.9937 - val_loss: 0.3836 - val_accuracy: 0.8916\n",
      "Epoch 8/30\n",
      "1000/1000 [==============================] - 107s 107ms/step - loss: 0.0186 - accuracy: 0.9953 - val_loss: 0.4238 - val_accuracy: 0.8875\n",
      "Epoch 9/30\n",
      "1000/1000 [==============================] - 107s 107ms/step - loss: 0.0124 - accuracy: 0.9975 - val_loss: 0.4671 - val_accuracy: 0.8880\n",
      "Epoch 10/30\n",
      "1000/1000 [==============================] - 108s 108ms/step - loss: 0.0079 - accuracy: 0.9985 - val_loss: 0.5149 - val_accuracy: 0.8825\n",
      "Epoch 11/30\n",
      "1000/1000 [==============================] - 107s 107ms/step - loss: 0.0050 - accuracy: 0.9991 - val_loss: 0.5653 - val_accuracy: 0.8815\n",
      "Epoch 12/30\n",
      "1000/1000 [==============================] - 108s 108ms/step - loss: 0.0033 - accuracy: 0.9996 - val_loss: 0.6212 - val_accuracy: 0.8770\n",
      "Epoch 13/30\n",
      "1000/1000 [==============================] - 111s 111ms/step - loss: 0.0021 - accuracy: 0.9998 - val_loss: 0.6622 - val_accuracy: 0.8773\n",
      "Epoch 14/30\n",
      "1000/1000 [==============================] - 108s 108ms/step - loss: 0.0017 - accuracy: 0.9997 - val_loss: 0.7299 - val_accuracy: 0.8752\n",
      "Epoch 15/30\n",
      "1000/1000 [==============================] - 114s 114ms/step - loss: 9.7983e-04 - accuracy: 1.0000 - val_loss: 0.7691 - val_accuracy: 0.8758\n",
      "Epoch 16/30\n",
      "1000/1000 [==============================] - 116s 116ms/step - loss: 9.6528e-04 - accuracy: 0.9999 - val_loss: 0.8250 - val_accuracy: 0.8704\n",
      "Epoch 17/30\n",
      "1000/1000 [==============================] - 114s 115ms/step - loss: 8.7640e-04 - accuracy: 0.9998 - val_loss: 0.8868 - val_accuracy: 0.8681\n",
      "Epoch 18/30\n",
      "1000/1000 [==============================] - 117s 117ms/step - loss: 4.3870e-04 - accuracy: 1.0000 - val_loss: 0.8941 - val_accuracy: 0.8725\n",
      "Epoch 19/30\n",
      "1000/1000 [==============================] - 116s 116ms/step - loss: 1.3996e-04 - accuracy: 1.0000 - val_loss: 0.9132 - val_accuracy: 0.8730\n",
      "Epoch 20/30\n",
      "1000/1000 [==============================] - 116s 116ms/step - loss: 1.8021e-04 - accuracy: 1.0000 - val_loss: 0.9511 - val_accuracy: 0.8715\n",
      "Epoch 21/30\n",
      "1000/1000 [==============================] - 116s 116ms/step - loss: 1.1802e-04 - accuracy: 1.0000 - val_loss: 0.9806 - val_accuracy: 0.8735\n",
      "Epoch 22/30\n",
      "1000/1000 [==============================] - 115s 115ms/step - loss: 1.1552e-04 - accuracy: 1.0000 - val_loss: 1.0518 - val_accuracy: 0.8725\n",
      "Epoch 23/30\n",
      "1000/1000 [==============================] - 115s 115ms/step - loss: 9.4730e-04 - accuracy: 0.9996 - val_loss: 1.0820 - val_accuracy: 0.8686\n",
      "Epoch 24/30\n",
      "1000/1000 [==============================] - 115s 115ms/step - loss: 2.9603e-04 - accuracy: 0.9999 - val_loss: 1.1099 - val_accuracy: 0.8710\n",
      "Epoch 25/30\n",
      "1000/1000 [==============================] - 116s 116ms/step - loss: 4.1799e-05 - accuracy: 1.0000 - val_loss: 1.1147 - val_accuracy: 0.8704\n",
      "Epoch 26/30\n",
      "1000/1000 [==============================] - 115s 115ms/step - loss: 2.7902e-05 - accuracy: 1.0000 - val_loss: 1.1195 - val_accuracy: 0.8680\n",
      "Epoch 27/30\n",
      "1000/1000 [==============================] - 108s 108ms/step - loss: 2.2548e-05 - accuracy: 1.0000 - val_loss: 1.1377 - val_accuracy: 0.8696\n",
      "Epoch 28/30\n",
      "1000/1000 [==============================] - 108s 108ms/step - loss: 1.8798e-05 - accuracy: 1.0000 - val_loss: 1.1469 - val_accuracy: 0.8685\n",
      "Epoch 29/30\n",
      "1000/1000 [==============================] - 106s 106ms/step - loss: 4.5921e-04 - accuracy: 0.9999 - val_loss: 1.1896 - val_accuracy: 0.8687\n",
      "Epoch 30/30\n",
      "1000/1000 [==============================] - 108s 108ms/step - loss: 5.0814e-05 - accuracy: 1.0000 - val_loss: 1.2034 - val_accuracy: 0.8680\n"
     ]
    }
   ],
   "source": [
    "num_epochs = 30\n",
    "history = model.fit(training_sequences, training_labels_pad, epochs=num_epochs, validation_split=0.2, verbose=1)"
   ]
  }
 ],
 "metadata": {
  "colab": {
   "collapsed_sections": [],
   "name": "IMDB Review.ipynb",
   "provenance": [],
   "toc_visible": true
  },
  "kernelspec": {
   "display_name": "Python 3",
   "language": "python",
   "name": "python3"
  },
  "language_info": {
   "codemirror_mode": {
    "name": "ipython",
    "version": 3
   },
   "file_extension": ".py",
   "mimetype": "text/x-python",
   "name": "python",
   "nbconvert_exporter": "python",
   "pygments_lexer": "ipython3",
   "version": "3.9.0"
  }
 },
 "nbformat": 4,
 "nbformat_minor": 5
}
