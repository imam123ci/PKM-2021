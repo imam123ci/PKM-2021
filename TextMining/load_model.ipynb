{
 "cells": [
  {
   "cell_type": "code",
   "execution_count": 4,
   "source": [
    "import tensorflow as tf  "
   ],
   "outputs": [],
   "metadata": {}
  },
  {
   "cell_type": "code",
   "execution_count": 7,
   "source": [
    "new_model = tf.keras.models.load_model('saved_model/rnn-fix.tf')"
   ],
   "outputs": [],
   "metadata": {}
  },
  {
   "cell_type": "code",
   "execution_count": 8,
   "source": [
    "print(new_model.summary())"
   ],
   "outputs": [
    {
     "output_type": "stream",
     "name": "stdout",
     "text": [
      "Model: \"sequential_1\"\n",
      "_________________________________________________________________\n",
      "Layer (type)                 Output Shape              Param #   \n",
      "=================================================================\n",
      "text_vectorization (TextVec  (None, None)              0         \n",
      "torization)                                                      \n",
      "_________________________________________________________________\n",
      "embedding_1 (Embedding)      (None, None, 16)          771104    \n",
      "_________________________________________________________________\n",
      "bidirectional_1 (Bidirectio  (None, 32)                4224      \n",
      "nal)                                                             \n",
      "_________________________________________________________________\n",
      "dropout_2 (Dropout)          (None, 32)                0         \n",
      "_________________________________________________________________\n",
      "dense_2 (Dense)              (None, 8)                 264       \n",
      "_________________________________________________________________\n",
      "dropout_3 (Dropout)          (None, 8)                 0         \n",
      "_________________________________________________________________\n",
      "dense_3 (Dense)              (None, 2)                 18        \n",
      "_________________________________________________________________\n",
      "dense_4 (Dense)              (None, 1)                 3         \n",
      "=================================================================\n",
      "Total params: 775,613\n",
      "Trainable params: 775,613\n",
      "Non-trainable params: 0\n",
      "_________________________________________________________________\n",
      "None\n"
     ]
    }
   ],
   "metadata": {}
  },
  {
   "cell_type": "code",
   "execution_count": 6,
   "source": [
    "#predict\r\n",
    "p1 = new_model.predict([\"Harus diakui, di tangan Lord Luhut, masalah pandemi dan PPKM ini tidak bergejolak seperti yang lalu-lalu. Smooth banget. Tetap PPKM, tapi ekonomi pelan2 buka kembali..\",\r\n",
    "\"Munafik ya mereka ? Sesuai kepentingan\", \"Enak banget lu. Dulu nuding @jokowi jangan ikut campur urusan pengadilan. Sekarang maksa Jokowi harus pengaruhi pengadilan. Nanti bilang Jokowi kok bisa kuasai pengadilan.\"])"
   ],
   "outputs": [],
   "metadata": {}
  },
  {
   "cell_type": "code",
   "execution_count": null,
   "source": [
    "#predict\r\n",
    "p1 = new_model.pre([\"Harus diakui, di tangan Lord Luhut, masalah pandemi dan PPKM ini tidak bergejolak seperti yang lalu-lalu. Smooth banget. Tetap PPKM, tapi ekonomi pelan2 buka kembali..\",\r\n",
    "\"Munafik ya mereka ? Sesuai kepentingan\", \"Enak banget lu. Dulu nuding @jokowi jangan ikut campur urusan pengadilan. Sekarang maksa Jokowi harus pengaruhi pengadilan. Nanti bilang Jokowi kok bisa kuasai pengadilan.\"])"
   ],
   "outputs": [],
   "metadata": {}
  },
  {
   "cell_type": "code",
   "execution_count": 16,
   "source": [
    "p1"
   ],
   "outputs": [
    {
     "output_type": "execute_result",
     "data": {
      "text/plain": [
       "array([[0.62157553],\n",
       "       [0.60439765],\n",
       "       [0.63026977]], dtype=float32)"
      ]
     },
     "metadata": {},
     "execution_count": 16
    }
   ],
   "metadata": {}
  },
  {
   "cell_type": "code",
   "execution_count": 17,
   "source": [
    "import numpy as np\r\n",
    "np.average(p1)"
   ],
   "outputs": [
    {
     "output_type": "execute_result",
     "data": {
      "text/plain": [
       "0.61874765"
      ]
     },
     "metadata": {},
     "execution_count": 17
    }
   ],
   "metadata": {}
  },
  {
   "cell_type": "code",
   "execution_count": null,
   "source": [],
   "outputs": [],
   "metadata": {}
  }
 ],
 "metadata": {
  "orig_nbformat": 4,
  "language_info": {
   "name": "python",
   "version": "3.9.0",
   "mimetype": "text/x-python",
   "codemirror_mode": {
    "name": "ipython",
    "version": 3
   },
   "pygments_lexer": "ipython3",
   "nbconvert_exporter": "python",
   "file_extension": ".py"
  },
  "kernelspec": {
   "name": "python3",
   "display_name": "Python 3.9.0 64-bit ('TextMining-XHwBU_UF': pipenv)"
  },
  "interpreter": {
   "hash": "946ce2353796bfaa84ae5db631aaf40d2dd384b4b2ab6f3bdffcff4e5ef2ab8c"
  }
 },
 "nbformat": 4,
 "nbformat_minor": 2
}