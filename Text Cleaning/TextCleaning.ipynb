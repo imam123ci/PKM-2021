{
 "cells": [
  {
   "cell_type": "markdown",
   "id": "943e51da-2c03-4dba-b6f8-27c492e6b87c",
   "metadata": {},
   "source": [
    "# Try to clean all text\n",
    "1. Separate text by white space\n",
    "2. Remove url, image and other nonsense\n",
    "3. Create a function than run it on server"
   ]
  },
  {
   "cell_type": "code",
   "execution_count": 85,
   "id": "01fa7dfa-637b-410c-97c3-45e074a8300f",
   "metadata": {},
   "outputs": [],
   "source": [
    "#import\n",
    "import re\n",
    "from Sastrawi.Stemmer.StemmerFactory import StemmerFactory\n",
    "from Sastrawi.StopWordRemover.StopWordRemoverFactory import StopWordRemoverFactory"
   ]
  },
  {
   "cell_type": "code",
   "execution_count": 71,
   "id": "3e3651d4-fafe-405f-9078-220e6a577bec",
   "metadata": {
    "tags": []
   },
   "outputs": [],
   "source": [
    "# Create dummy text and all parameter\n",
    "text = \"\\nTangkaaap aja Pak\\nUdah bikin rusuh dan bikin resah emang..\\n.\\nAyo Pak Polisi..\\nMinceu mendukung\\nPengen tau siapa yang bikin website kek gituan https://t.co/aVMCJHlc9Y\"\n",
    "text = text.replace(\"\\n\", \" \") # replace \\n\n",
    "separator = \" \""
   ]
  },
  {
   "cell_type": "code",
   "execution_count": 73,
   "id": "8f6dd7a4-9e09-4f2a-8db9-24f56995be54",
   "metadata": {},
   "outputs": [
    {
     "data": {
      "text/plain": [
       "'https://t.co/aVMCJHlc9Y'"
      ]
     },
     "execution_count": 73,
     "metadata": {},
     "output_type": "execute_result"
    }
   ],
   "source": [
    "# split text to array then remove last word\n",
    "textArr = text.split(\" \")\n",
    "textArr.pop() #remove tweet url"
   ]
  },
  {
   "cell_type": "code",
   "execution_count": 74,
   "id": "1ad05d0a-8554-4b63-9c71-25beff8b4491",
   "metadata": {},
   "outputs": [],
   "source": [
    "for i,t in enumerate(textArr):\n",
    "    t = t.lower()\n",
    "    t = re.sub('[^A-Za-z0-9]+', '', t)\n",
    "    textArr[i] = t\n"
   ]
  },
  {
   "cell_type": "code",
   "execution_count": 89,
   "id": "01b568bf-ef9a-4b08-9550-5f572c5ba75e",
   "metadata": {
    "tags": []
   },
   "outputs": [
    {
     "name": "stdout",
     "output_type": "stream",
     "text": [
      "tangkaaap aja udah bikin rusuh bikin resah emang ayo polisi minceu dukung ken tau bikin website kek gituan\n"
     ]
    },
    {
     "data": {
      "text/plain": [
       "' tangkaaap aja pak udah bikin rusuh dan bikin resah emang  ayo pak polisi minceu mendukung pengen tau siapa yang bikin website kek gituan'"
      ]
     },
     "execution_count": 89,
     "metadata": {},
     "output_type": "execute_result"
    }
   ],
   "source": [
    "#Stemming word\n",
    "stemmer = StemmerFactory().create_stemmer()\n",
    "textfix = stemmer.stem(\" \".join(textArr))\n",
    "\n",
    "#Stop word remover\n",
    "swremoval = StopWordRemoverFactory().create_stop_word_remover()\n",
    "textfix = swremoval.remove(textfix)\n",
    "\n"
   ]
  }
 ],
 "metadata": {
  "kernelspec": {
   "display_name": "Python 3",
   "language": "python",
   "name": "python3"
  },
  "language_info": {
   "codemirror_mode": {
    "name": "ipython",
    "version": 3
   },
   "file_extension": ".py",
   "mimetype": "text/x-python",
   "name": "python",
   "nbconvert_exporter": "python",
   "pygments_lexer": "ipython3",
   "version": "3.9.0"
  }
 },
 "nbformat": 4,
 "nbformat_minor": 5
}
